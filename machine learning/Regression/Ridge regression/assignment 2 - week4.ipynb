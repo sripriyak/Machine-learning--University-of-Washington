{
 "cells": [
  {
   "cell_type": "code",
   "execution_count": 1,
   "metadata": {
    "collapsed": true
   },
   "outputs": [],
   "source": [
    "import graphlab\n",
    "import numpy as np\n",
    "import matplotlib.pyplot as plt"
   ]
  },
  {
   "cell_type": "code",
   "execution_count": 2,
   "metadata": {
    "collapsed": false
   },
   "outputs": [
    {
     "name": "stdout",
     "output_type": "stream",
     "text": [
      "This non-commercial license of GraphLab Create for academic use is assigned to sripriya.kuram@gmail.com and will expire on September 13, 2017.\n"
     ]
    },
    {
     "name": "stderr",
     "output_type": "stream",
     "text": [
      "[INFO] graphlab.cython.cy_server: GraphLab Create v2.1 started. Logging: C:\\Users\\sripr\\AppData\\Local\\Temp\\graphlab_server_1478872972.log.0\n"
     ]
    }
   ],
   "source": [
    "sales = graphlab.SFrame('kc_house_data.gl/')"
   ]
  },
  {
   "cell_type": "code",
   "execution_count": 43,
   "metadata": {
    "collapsed": false
   },
   "outputs": [],
   "source": [
    "def get_numpy_data(data_sframe, features, output):\n",
    "    one_vector = np.ones(len(data_sframe))\n",
    "    feature_matrix = graphlab.SFrame()\n",
    "    feature_matrix['constant']=one_vector\n",
    "    feature_matrix[features] = data_sframe[features]\n",
    "    output_array = data_sframe[output].to_numpy()\n",
    "    feature_matrix = feature_matrix.to_numpy()\n",
    "    return (feature_matrix,output_array)\n",
    "\n",
    "    "
   ]
  },
  {
   "cell_type": "code",
   "execution_count": 44,
   "metadata": {
    "collapsed": true
   },
   "outputs": [],
   "source": [
    "def predict_output(feature_matrix, weights):\n",
    "    predictions = np.dot(feature_matrix,weights)\n",
    "    return predictions"
   ]
  },
  {
   "cell_type": "code",
   "execution_count": 85,
   "metadata": {
    "collapsed": false
   },
   "outputs": [],
   "source": [
    "def test_errors(presictions,output):\n",
    "    test_error = ( output - predictions )\n",
    "    return test_error\n",
    "#error = output - predictions\n",
    "def feature_derivative_ridge(errors, feature, weights, l2_penalty, feature_is_constant):\n",
    "    \n",
    "    if feature_is_constant is True:\n",
    "        for i in weights[1:]:\n",
    "        \n",
    "            cost_of_fit = 2 * sum (np.dot(errors , feature[i]))\n",
    "            cost_of_weights = 2 * weights[i] * l2_penalty\n",
    "            total_cost_wo_constant = cost_of_fit + cost_of_weights\n",
    "        cost_of_constant = 2 * weights[0] * errors[0] * feature[0]\n",
    "        derivative = cost_of_constant + total_cost_wo_constant\n",
    "        \n",
    "            \n",
    "    elif feature_is_constant is False:\n",
    "         for i in weights:\n",
    "            cost_of_fit = 2 * sum (np.dot(errors * feature[i]))\n",
    "            cost_of_weights = 2 * weights[i] * l2_penalty\n",
    "            derivative = cost_of_fit + cost_of_weights\n",
    "    return derivative\n",
    "    "
   ]
  },
  {
   "cell_type": "code",
   "execution_count": 86,
   "metadata": {
    "collapsed": false
   },
   "outputs": [],
   "source": [
    "(example_features, example_output) = get_numpy_data( sales, ['sqft_living'], 'price' ) \n",
    "my_weights = np.array([1., 10.])\n",
    "test_predictions = predict_output(example_features, my_weights)\n",
    "errors = test_predictions - example_output\n"
   ]
  },
  {
   "cell_type": "code",
   "execution_count": 98,
   "metadata": {
    "collapsed": false
   },
   "outputs": [],
   "source": [
    "def feature_derivative_ridge(errors, feature, weight, l2_penalty, feature_is_constant):\n",
    "    # If feature_is_constant is True, derivative is twice the dot product of errors and feature\n",
    "    if feature_is_constant == True:\n",
    "        derivative = 2 * np.dot(errors, feature)\n",
    "    # Otherwise, derivative is twice the dot product plus 2*l2_penalty*weight\n",
    "    else:\n",
    "        derivative = 2 * np.dot(errors, feature) + 2*l2_penalty*weight\n",
    "    return derivative"
   ]
  },
  {
   "cell_type": "code",
   "execution_count": 99,
   "metadata": {
    "collapsed": false
   },
   "outputs": [
    {
     "name": "stdout",
     "output_type": "stream",
     "text": [
      "-5.65541667824e+13\n"
     ]
    }
   ],
   "source": [
    "print np.sum(errors*example_features[:,1])*2+20"
   ]
  },
  {
   "cell_type": "code",
   "execution_count": 100,
   "metadata": {
    "collapsed": false
   },
   "outputs": [
    {
     "name": "stdout",
     "output_type": "stream",
     "text": [
      "-22446749336.0\n"
     ]
    }
   ],
   "source": [
    "print feature_derivative_ridge(errors, example_features[:,0], my_weights[0], 1, True)\n"
   ]
  },
  {
   "cell_type": "code",
   "execution_count": 204,
   "metadata": {
    "collapsed": false
   },
   "outputs": [],
   "source": [
    "def ridge_regression_gradient_descent(feature_matrix, output, initial_weights, step_size, l2_penalty, max_iterations=100):\n",
    "    print 'Starting gradient descent with l2_penalty = ' + str(l2_penalty)\n",
    "    weights = np.array(initial_weights)\n",
    "    iterations = 1\n",
    "    print_frequency = 1\n",
    "    if iterations <= 3:\n",
    "        \n",
    "        predictions = predict_output(feature_matrix , weights)\n",
    "        errors =  predictions - output\n",
    "        if iterations == 10:\n",
    "            print_frequency = 10\n",
    "        if iterations == 100:\n",
    "            print_frequency = 100\n",
    "        for i in range(len(weights)):\n",
    "            if i == 0:\n",
    "                derivative = feature_derivative_ridge(errors,feature_matrix[:, i], weights[i], l2_penalty, True)\n",
    "            else:\n",
    "                derivative = feature_derivative_ridge(errors, feature_matrix[:, i], weights[i], l2_penalty, False)\n",
    "            weights[i] = weights[i] - step_size * derivative\n",
    "            print weights\n",
    "        iterations = iterations + 1\n",
    "        \n",
    "    return weights\n"
   ]
  },
  {
   "cell_type": "code",
   "execution_count": 209,
   "metadata": {
    "collapsed": false
   },
   "outputs": [
    {
     "name": "stdout",
     "output_type": "stream",
     "text": [
      "Starting gradient descent with l2_penalty = 0.0\n",
      "[ 0.01846343  4.        ]\n",
      "[  1.84634251e-02   5.06126941e+01]\n"
     ]
    },
    {
     "data": {
      "text/plain": [
       "array([  1.84634251e-02,   5.06126941e+01])"
      ]
     },
     "execution_count": 209,
     "metadata": {},
     "output_type": "execute_result"
    }
   ],
   "source": [
    "initial_weights = np.array([0., 4.])\n",
    "step_size = 1e-12\n",
    "max_iterations=1000\n",
    "l2_penalty = 0.0\n",
    "omlette = ridge_regression_gradient_descent(simple_feature_matrix, train_output, initial_weights, \n",
    "                                                              step_size, l2_penalty, max_iterations=100)\n",
    "omlette"
   ]
  },
  {
   "cell_type": "code",
   "execution_count": 210,
   "metadata": {
    "collapsed": false
   },
   "outputs": [
    {
     "name": "stdout",
     "output_type": "stream",
     "text": [
      "Starting gradient descent with l2_penalty = 1e+11\n",
      "[ 0.01846343  4.        ]\n",
      "[  1.84634251e-02   4.98126941e+01]\n"
     ]
    },
    {
     "data": {
      "text/plain": [
       "array([  1.84634251e-02,   4.98126941e+01])"
      ]
     },
     "execution_count": 210,
     "metadata": {},
     "output_type": "execute_result"
    }
   ],
   "source": [
    "initial_weights = np.array([0., 4.])\n",
    "step_size = 1e-12\n",
    "max_iterations=1000\n",
    "l2_penalty = 1e11\n",
    "omlette = ridge_regression_gradient_descent(simple_feature_matrix, train_output, initial_weights, \n",
    "                                                              step_size, l2_penalty, max_iterations=100)\n",
    "omlette"
   ]
  },
  {
   "cell_type": "code",
   "execution_count": 165,
   "metadata": {
    "collapsed": false
   },
   "outputs": [],
   "source": [
    "simple_features = ['sqft_living']\n",
    "my_output = 'price'"
   ]
  },
  {
   "cell_type": "code",
   "execution_count": 166,
   "metadata": {
    "collapsed": false
   },
   "outputs": [],
   "source": [
    "    train_data,test_data = sales.random_split(.8,seed=0)"
   ]
  },
  {
   "cell_type": "code",
   "execution_count": 167,
   "metadata": {
    "collapsed": true
   },
   "outputs": [],
   "source": [
    "(simple_feature_matrix, train_output) = get_numpy_data(train_data, simple_features, my_output)\n",
    "(simple_test_feature_matrix, test_output) = get_numpy_data(test_data, simple_features, my_output)"
   ]
  },
  {
   "cell_type": "code",
   "execution_count": 168,
   "metadata": {
    "collapsed": true
   },
   "outputs": [],
   "source": [
    "initial_weights = np.array([0., 0.])\n",
    "step_size = 1e-12\n",
    "max_iterations=1000"
   ]
  },
  {
   "cell_type": "code",
   "execution_count": 169,
   "metadata": {
    "collapsed": false
   },
   "outputs": [
    {
     "name": "stdout",
     "output_type": "stream",
     "text": [
      "Starting gradient descent with l2_penalty = 0.0\n"
     ]
    },
    {
     "data": {
      "text/plain": [
       "array([  7.88199720e-02,   2.63024271e+02])"
      ]
     },
     "execution_count": 169,
     "metadata": {},
     "output_type": "execute_result"
    }
   ],
   "source": [
    "l2_penalty = 0.0\n",
    "simple_weights_0_penalty =  ridge_regression_gradient_descent(simple_feature_matrix, train_output, initial_weights, \n",
    "                                                              step_size, l2_penalty, max_iterations=100)\n",
    "simple_weights_0_penalty"
   ]
  },
  {
   "cell_type": "code",
   "execution_count": 170,
   "metadata": {
    "collapsed": false
   },
   "outputs": [
    {
     "name": "stdout",
     "output_type": "stream",
     "text": [
      "Starting gradient descent with l2_penalty = 1e+11\n"
     ]
    },
    {
     "data": {
      "text/plain": [
       "array([   0.99807924,  124.57384473])"
      ]
     },
     "execution_count": 170,
     "metadata": {},
     "output_type": "execute_result"
    }
   ],
   "source": [
    "l2_penalty = 1e11\n",
    "simple_weights_high_penalty = ridge_regression_gradient_descent(simple_feature_matrix, train_output, initial_weights, \n",
    "                                                              step_size, l2_penalty, max_iterations=100)\n",
    "simple_weights_high_penalty"
   ]
  },
  {
   "cell_type": "code",
   "execution_count": 171,
   "metadata": {
    "collapsed": false
   },
   "outputs": [
    {
     "data": {
      "text/plain": [
       "[<matplotlib.lines.Line2D at 0x21b65588>,\n",
       " <matplotlib.lines.Line2D at 0x21b65668>,\n",
       " <matplotlib.lines.Line2D at 0x21b657f0>,\n",
       " <matplotlib.lines.Line2D at 0x21b74278>,\n",
       " <matplotlib.lines.Line2D at 0x21b74390>,\n",
       " <matplotlib.lines.Line2D at 0x21b74d68>]"
      ]
     },
     "execution_count": 171,
     "metadata": {},
     "output_type": "execute_result"
    },
    {
     "data": {
      "image/png": "[encoded data removed]",
      "text/plain": [
       "<matplotlib.figure.Figure at 0x16206128>"
      ]
     },
     "metadata": {},
     "output_type": "display_data"
    }
   ],
   "source": [
    "import matplotlib.pyplot as plt\n",
    "%matplotlib inline\n",
    "plt.plot(simple_feature_matrix,train_output,'k.',\n",
    "         simple_feature_matrix,predict_output(simple_feature_matrix, simple_weights_0_penalty),'b-',\n",
    "        simple_feature_matrix,predict_output(simple_feature_matrix, simple_weights_high_penalty),'r-')"
   ]
  },
  {
   "cell_type": "code",
   "execution_count": 172,
   "metadata": {
    "collapsed": false
   },
   "outputs": [
    {
     "data": {
      "text/plain": [
       "(1784273282524564.0, 275723643935160.09, 694653089851533.12)"
      ]
     },
     "execution_count": 172,
     "metadata": {},
     "output_type": "execute_result"
    }
   ],
   "source": [
    "-- simple_test_feature_matrix, test_output\n",
    "\n",
    "sum1 = sum ((test_output - np.dot(simple_test_feature_matrix , initial_weights) )**2)\n",
    "sum2 = sum ((test_output - np.dot(simple_test_feature_matrix , simple_weights_0_penalty)) ** 2)\n",
    "sum3 = sum ((test_output - np.dot(simple_test_feature_matrix , simple_weights_high_penalty)) **2 )\n",
    "sum1 , sum2 , sum3"
   ]
  },
  {
   "cell_type": "code",
   "execution_count": 174,
   "metadata": {
    "collapsed": true
   },
   "outputs": [],
   "source": [
    "model_features = ['sqft_living', 'sqft_living15'] # sqft_living15 is the average squarefeet for the nearest 15 neighbors. \n",
    "my_output = 'price'\n",
    "(train_feature_matrix, train_output1) = get_numpy_data(train_data, model_features, my_output)\n",
    "(test_feature_matrix, test_output1) = get_numpy_data(test_data, model_features, my_output)"
   ]
  },
  {
   "cell_type": "code",
   "execution_count": 182,
   "metadata": {
    "collapsed": true
   },
   "outputs": [],
   "source": [
    "initial_weights1 = np.array([0.0,0.0,0.0])\n",
    "step_size = 1e-12\n",
    "max_iterations = 1000"
   ]
  },
  {
   "cell_type": "code",
   "execution_count": 183,
   "metadata": {
    "collapsed": false
   },
   "outputs": [
    {
     "name": "stdout",
     "output_type": "stream",
     "text": [
      "Starting gradient descent with l2_penalty = 0.0\n"
     ]
    },
    {
     "data": {
      "text/plain": [
       "array([  -0.35743482,  243.0541689 ,   22.41481594])"
      ]
     },
     "execution_count": 183,
     "metadata": {},
     "output_type": "execute_result"
    }
   ],
   "source": [
    "l2_penalty = 0.0\n",
    "multiple_weights_0_penalty = ridge_regression_gradient_descent(train_feature_matrix, train_output1, initial_weights, step_size, l2_penalty, max_iterations)\n",
    "multiple_weights_0_penalty"
   ]
  },
  {
   "cell_type": "code",
   "execution_count": 184,
   "metadata": {
    "collapsed": false
   },
   "outputs": [
    {
     "name": "stdout",
     "output_type": "stream",
     "text": [
      "Starting gradient descent with l2_penalty = 1e+11\n"
     ]
    },
    {
     "data": {
      "text/plain": [
       "array([  6.7429658 ,  91.48927361,  78.43658768])"
      ]
     },
     "execution_count": 184,
     "metadata": {},
     "output_type": "execute_result"
    }
   ],
   "source": [
    "\n",
    "l2_penalty = 1e11\n",
    "multiple_weights_high_penalty = ridge_regression_gradient_descent(train_feature_matrix, train_output1, initial_weights, step_size, l2_penalty, max_iterations)\n",
    "multiple_weights_high_penalty"
   ]
  },
  {
   "cell_type": "code",
   "execution_count": 187,
   "metadata": {
    "collapsed": false
   },
   "outputs": [
    {
     "data": {
      "text/plain": [
       "(1784273282524564.0, 274067618287244.97, 500404800579555.94)"
      ]
     },
     "execution_count": 187,
     "metadata": {},
     "output_type": "execute_result"
    }
   ],
   "source": [
    "sum4 = sum ((test_output1 - np.dot(test_feature_matrix , initial_weights1) )**2)\n",
    "sum5 = sum ((test_output1 - np.dot(test_feature_matrix , multiple_weights_0_penalty)) ** 2)\n",
    "sum6 = sum ((test_output1 - np.dot(test_feature_matrix , multiple_weights_high_penalty)) **2 )\n",
    "sum4 , sum5 , sum6"
   ]
  },
  {
   "cell_type": "code",
   "execution_count": 191,
   "metadata": {
    "collapsed": false
   },
   "outputs": [
    {
     "ename": "TypeError",
     "evalue": "'numpy.float64' object is not iterable",
     "output_type": "error",
     "traceback": [
      "\u001b[1;31m---------------------------------------------------------------------------\u001b[0m",
      "\u001b[1;31mTypeError\u001b[0m                                 Traceback (most recent call last)",
      "\u001b[1;32m<ipython-input-191-102fd7f83c98>\u001b[0m in \u001b[0;36m<module>\u001b[1;34m()\u001b[0m\n\u001b[1;32m----> 1\u001b[1;33m \u001b[0msum\u001b[0m \u001b[1;33m(\u001b[0m\u001b[1;33m(\u001b[0m\u001b[0mtest_output1\u001b[0m\u001b[1;33m[\u001b[0m\u001b[1;36m0\u001b[0m\u001b[1;33m]\u001b[0m \u001b[1;33m-\u001b[0m \u001b[0mnp\u001b[0m\u001b[1;33m.\u001b[0m\u001b[0mdot\u001b[0m\u001b[1;33m(\u001b[0m\u001b[0mtest_feature_matrix\u001b[0m\u001b[1;33m[\u001b[0m\u001b[1;36m0\u001b[0m\u001b[1;33m]\u001b[0m \u001b[1;33m,\u001b[0m \u001b[0mmultiple_weights_0_penalty\u001b[0m\u001b[1;33m)\u001b[0m \u001b[1;33m)\u001b[0m\u001b[1;33m**\u001b[0m\u001b[1;36m2\u001b[0m\u001b[1;33m)\u001b[0m\u001b[1;33m\u001b[0m\u001b[0m\n\u001b[0m",
      "\u001b[1;31mTypeError\u001b[0m: 'numpy.float64' object is not iterable"
     ]
    }
   ],
   "source": [
    "sum ((test_output1[0] - np.dot(test_feature_matrix[0] , multiple_weights_0_penalty) )**2)"
   ]
  },
  {
   "cell_type": "code",
   "execution_count": 194,
   "metadata": {
    "collapsed": false
   },
   "outputs": [
    {
     "data": {
      "text/plain": [
       "77465.476464743959"
      ]
     },
     "execution_count": 194,
     "metadata": {},
     "output_type": "execute_result"
    }
   ],
   "source": [
    "predict_output(test_feature_matrix[0],multiple_weights_0_penalty) - test_output1[0]"
   ]
  },
  {
   "cell_type": "code",
   "execution_count": 195,
   "metadata": {
    "collapsed": false
   },
   "outputs": [
    {
     "data": {
      "text/plain": [
       "-39546.469695141423"
      ]
     },
     "execution_count": 195,
     "metadata": {},
     "output_type": "execute_result"
    }
   ],
   "source": [
    "predict_output(test_feature_matrix[0],multiple_weights_high_penalty) - test_output1[0]"
   ]
  },
  {
   "cell_type": "code",
   "execution_count": 198,
   "metadata": {
    "collapsed": false
   },
   "outputs": [
    {
     "name": "stdout",
     "output_type": "stream",
     "text": [
      "[[  1.00000000e+00   1.43000000e+03   1.78000000e+03]\n",
      " [  1.00000000e+00   2.95000000e+03   2.14000000e+03]\n",
      " [  1.00000000e+00   1.71000000e+03   1.03000000e+03]\n",
      " ..., \n",
      " [  1.00000000e+00   2.52000000e+03   2.52000000e+03]\n",
      " [  1.00000000e+00   2.31000000e+03   1.83000000e+03]\n",
      " [  1.00000000e+00   1.02000000e+03   1.02000000e+03]]\n"
     ]
    }
   ],
   "source": []
  },
  {
   "cell_type": "code",
   "execution_count": null,
   "metadata": {
    "collapsed": true
   },
   "outputs": [],
   "source": []
  }
 ],
 "metadata": {
  "kernelspec": {
   "display_name": "Python 2",
   "language": "python",
   "name": "python2"
  },
  "language_info": {
   "codemirror_mode": {
    "name": "ipython",
    "version": 2
   },
   "file_extension": ".py",
   "mimetype": "text/x-python",
   "name": "python",
   "nbconvert_exporter": "python",
   "pygments_lexer": "ipython2",
   "version": "2.7.11"
  }
 },
 "nbformat": 4,
 "nbformat_minor": 0
}
