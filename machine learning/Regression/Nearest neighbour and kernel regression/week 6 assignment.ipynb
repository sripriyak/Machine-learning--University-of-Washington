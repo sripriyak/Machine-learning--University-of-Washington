{
 "cells": [
  {
   "cell_type": "code",
   "execution_count": 1,
   "metadata": {
    "collapsed": true
   },
   "outputs": [],
   "source": [
    "import graphlab\n",
    "import numpy as np\n",
    "import matplotlib.pyplot as plt\n",
    "%matplotlib inline\n"
   ]
  },
  {
   "cell_type": "code",
   "execution_count": 2,
   "metadata": {
    "collapsed": false
   },
   "outputs": [
    {
     "name": "stdout",
     "output_type": "stream",
     "text": [
      "This non-commercial license of GraphLab Create for academic use is assigned to sripriya.kuram@gmail.com and will expire on September 13, 2017.\n"
     ]
    },
    {
     "name": "stderr",
     "output_type": "stream",
     "text": [
      "[INFO] graphlab.cython.cy_server: GraphLab Create v2.1 started. Logging: C:\\Users\\sripr\\AppData\\Local\\Temp\\graphlab_server_1479532753.log.0\n"
     ]
    }
   ],
   "source": [
    "sales = graphlab.SFrame('kc_house_data_small.gl/')"
   ]
  },
  {
   "cell_type": "code",
   "execution_count": 3,
   "metadata": {
    "collapsed": true
   },
   "outputs": [],
   "source": [
    "(train_and_validation, test) = sales.random_split(.8, seed=1)\n",
    "(train, validation) = train_and_validation.random_split(.8, seed=1)"
   ]
  },
  {
   "cell_type": "code",
   "execution_count": 4,
   "metadata": {
    "collapsed": true
   },
   "outputs": [],
   "source": [
    "def get_numpy_data(data_sframe, features, output):\n",
    "    data_sframe['constant'] = 1\n",
    "    features_list = ['constant'] + features\n",
    "    feature_frame = data_sframe[features_list]\n",
    "    feature_matrix = feature_frame.to_numpy()\n",
    "    output_array = data_sframe[output].to_numpy()\n",
    "    return (feature_matrix, output_array)"
   ]
  },
  {
   "cell_type": "code",
   "execution_count": 5,
   "metadata": {
    "collapsed": true
   },
   "outputs": [],
   "source": [
    "def normalize_features(features):\n",
    "    norms = np.linalg.norm(features , axis = 0)\n",
    "    normalized_features = features / norms\n",
    "    return (normalized_features, norms)"
   ]
  },
  {
   "cell_type": "code",
   "execution_count": 8,
   "metadata": {
    "collapsed": true
   },
   "outputs": [],
   "source": [
    "feature_list = ['bedrooms',  \n",
    "                'bathrooms',  \n",
    "                'sqft_living',  \n",
    "                'sqft_lot',  \n",
    "                'floors',\n",
    "                'waterfront',  \n",
    "                'view',  \n",
    "                'condition',  \n",
    "                'grade',  \n",
    "                'sqft_above',  \n",
    "                'sqft_basement',\n",
    "                'yr_built',  \n",
    "                'yr_renovated',  \n",
    "                'lat',  \n",
    "                'long',  \n",
    "                'sqft_living15',  \n",
    "                'sqft_lot15']\n",
    "features_train, output_train = get_numpy_data(train, feature_list, 'price')\n",
    "features_test, output_test = get_numpy_data(test, feature_list, 'price')\n",
    "features_valid, output_valid = get_numpy_data(validation, feature_list, 'price')"
   ]
  },
  {
   "cell_type": "code",
   "execution_count": 9,
   "metadata": {
    "collapsed": true
   },
   "outputs": [],
   "source": [
    "features_train, norms = normalize_features(features_train) \n",
    "features_test = features_test / norms \n",
    "features_valid = features_valid / norms"
   ]
  },
  {
   "cell_type": "code",
   "execution_count": 10,
   "metadata": {
    "collapsed": true
   },
   "outputs": [],
   "source": [
    "query_house = features_test[0]"
   ]
  },
  {
   "cell_type": "code",
   "execution_count": 11,
   "metadata": {
    "collapsed": false
   },
   "outputs": [
    {
     "data": {
      "text/plain": [
       "array([ 0.01345102,  0.01551285,  0.01807473,  0.01759212,  0.00160518,\n",
       "        0.017059  ,  0.        ,  0.05102365,  0.0116321 ,  0.01564352,\n",
       "        0.01362084,  0.02481682,  0.01350306,  0.        ,  0.01345386,\n",
       "       -0.01346927,  0.01375926,  0.0016225 ])"
      ]
     },
     "execution_count": 11,
     "metadata": {},
     "output_type": "execute_result"
    }
   ],
   "source": [
    "query_house"
   ]
  },
  {
   "cell_type": "code",
   "execution_count": 23,
   "metadata": {
    "collapsed": false
   },
   "outputs": [
    {
     "data": {
      "text/plain": [
       "0.059723593716661257"
      ]
     },
     "execution_count": 23,
     "metadata": {},
     "output_type": "execute_result"
    }
   ],
   "source": [
    "np.sqrt(np.sum((query_house - features_train[9])**2))"
   ]
  },
  {
   "cell_type": "code",
   "execution_count": 22,
   "metadata": {
    "collapsed": false
   },
   "outputs": [
    {
     "data": {
      "text/plain": [
       "[0.0602747091729555,\n",
       " 0.085468811488270832,\n",
       " 0.061499464371202843,\n",
       " 0.053402739788200579,\n",
       " 0.058444840639381393,\n",
       " 0.059879215101840008,\n",
       " 0.054631404972615261,\n",
       " 0.055431083241597921,\n",
       " 0.052383627840972731,\n",
       " 0.059723593716661257]"
      ]
     },
     "execution_count": 22,
     "metadata": {},
     "output_type": "execute_result"
    }
   ],
   "source": [
    "#eatures_train[0:9]\n",
    "distances1 = []\n",
    "for i in range(10):\n",
    "    distances1.append(np.sqrt(np.sum((query_house - features_train[i])**2)))\n",
    "min(distances1)\n",
    "distances1\n",
    "    "
   ]
  },
  {
   "cell_type": "code",
   "execution_count": 26,
   "metadata": {
    "collapsed": false
   },
   "outputs": [],
   "source": [
    "diff = features_train[0:len(features_train)] - query_house"
   ]
  },
  {
   "cell_type": "code",
   "execution_count": 31,
   "metadata": {
    "collapsed": false
   },
   "outputs": [
    {
     "data": {
      "text/plain": [
       "5527"
      ]
     },
     "execution_count": 31,
     "metadata": {},
     "output_type": "execute_result"
    }
   ],
   "source": [
    "distances = np.sqrt(np.sum((diff**2),axis=1))\n",
    "len(distances)"
   ]
  },
  {
   "cell_type": "code",
   "execution_count": 32,
   "metadata": {
    "collapsed": false
   },
   "outputs": [
    {
     "name": "stdout",
     "output_type": "stream",
     "text": [
      "0.0237082324496\n"
     ]
    }
   ],
   "source": [
    "print distances[100]"
   ]
  },
  {
   "cell_type": "code",
   "execution_count": 43,
   "metadata": {
    "collapsed": true
   },
   "outputs": [],
   "source": [
    "def compute_distances(features_instances, features_query):\n",
    "    diff = features_instances[0:len(features_instances)] - features_query\n",
    "    distances = np.sqrt(np.sum((diff**2),axis=1))\n",
    "    return distances"
   ]
  },
  {
   "cell_type": "code",
   "execution_count": 44,
   "metadata": {
    "collapsed": false
   },
   "outputs": [],
   "source": [
    "x = compute_distances(features_train, features_test[2])"
   ]
  },
  {
   "cell_type": "code",
   "execution_count": 45,
   "metadata": {
    "collapsed": false
   },
   "outputs": [
    {
     "data": {
      "text/plain": [
       "(array([382], dtype=int64),)"
      ]
     },
     "execution_count": 45,
     "metadata": {},
     "output_type": "execute_result"
    }
   ],
   "source": [
    "np.where(x == x.min())"
   ]
  },
  {
   "cell_type": "code",
   "execution_count": 46,
   "metadata": {
    "collapsed": false
   },
   "outputs": [
    {
     "data": {
      "text/plain": [
       "249000L"
      ]
     },
     "execution_count": 46,
     "metadata": {},
     "output_type": "execute_result"
    }
   ],
   "source": [
    "train[382]['price']"
   ]
  },
  {
   "cell_type": "code",
   "execution_count": 47,
   "metadata": {
    "collapsed": true
   },
   "outputs": [],
   "source": [
    "def k_nearest_neighbors(k, feature_train, features_query):\n",
    "    diff = feature_train[0:len(feature_train)] - features_query\n",
    "    distances = np.sqrt(np.sum((diff**2),axis=1))\n",
    "    distances = np.argsort(distances)\n",
    "    neighbors = distances[0:k]    \n",
    "    return neighbors"
   ]
  },
  {
   "cell_type": "code",
   "execution_count": 63,
   "metadata": {
    "collapsed": false
   },
   "outputs": [
    {
     "data": {
      "text/plain": [
       "array([ 382, 1149, 4087, 3142], dtype=int64)"
      ]
     },
     "execution_count": 63,
     "metadata": {},
     "output_type": "execute_result"
    }
   ],
   "source": [
    "y = k_nearest_neighbors(4, features_train, features_test[2])\n",
    "y"
   ]
  },
  {
   "cell_type": "code",
   "execution_count": null,
   "metadata": {
    "collapsed": false
   },
   "outputs": [],
   "source": []
  },
  {
   "cell_type": "code",
   "execution_count": 166,
   "metadata": {
    "collapsed": true
   },
   "outputs": [],
   "source": [
    "def predict_output_of_query(k, feature_train, output_train, features_query):\n",
    "    avg_price= 0\n",
    "    diff = feature_train[0:len(feature_train)] - features_query\n",
    "    distances = np.sqrt(np.sum((diff**2),axis=1))\n",
    "    distances = np.argsort(distances)\n",
    "    neighbors = distances[0:k]\n",
    "    print neighbors\n",
    "    for i in neighbors:\n",
    "        avg_price += output_train[i]\n",
    "    prediction = avg_price/len(neighbors)\n",
    "        \n",
    "    return prediction"
   ]
  },
  {
   "cell_type": "code",
   "execution_count": 167,
   "metadata": {
    "collapsed": false
   },
   "outputs": [
    {
     "name": "stdout",
     "output_type": "stream",
     "text": [
      "[ 382 1149 4087 3142]\n"
     ]
    },
    {
     "data": {
      "text/plain": [
       "413987"
      ]
     },
     "execution_count": 167,
     "metadata": {},
     "output_type": "execute_result"
    }
   ],
   "source": [
    "z = predict_output_of_query(4, features_train, output_train, features_test[2])\n",
    "z"
   ]
  },
  {
   "cell_type": "code",
   "execution_count": 178,
   "metadata": {
    "collapsed": false
   },
   "outputs": [],
   "source": [
    "def predict_output(k, feature_train, output_train, features_query):\n",
    "    avg_price= 0\n",
    "    final_prediction =[]\n",
    "    for j in features_query:\n",
    "        diff = feature_train[0:] - j\n",
    "        distances = np.sqrt(np.sum((diff**2),axis=1))\n",
    "        distances = np.argsort(distances)\n",
    "        neighbors = distances[0:k]\n",
    "        #print neighbors\n",
    "        avg_price = 0\n",
    "        for i in neighbors:\n",
    "            avg_price += output_train[i]\n",
    "        prediction = avg_price/len(neighbors)\n",
    "        #print prediction\n",
    "        final_prediction.append(prediction)\n",
    "    return final_prediction"
   ]
  },
  {
   "cell_type": "code",
   "execution_count": 192,
   "metadata": {
    "collapsed": false
   },
   "outputs": [
    {
     "name": "stdout",
     "output_type": "stream",
     "text": [
      "7\n",
      "[105453830251561, 83445073036317, 72692113667429, 71946729679356, 69846516027353, 68899557352960, 68341986155264, 67361700020962, 68372752298062, 69335060576786, 69523884081979, 69049991793212, 70011272351177, 70908725305267, 71106956486642]\n"
     ]
    }
   ],
   "source": [
    "rss_all = []\n",
    "for k in range(1,16):\n",
    "    fpp = predict_output(k, features_train, output_train, features_valid[0:len(features_valid)])\n",
    "    rss = (output_valid - fpp)**2\n",
    "    rss_all.append(np.sum(rss,axis=0))\n",
    "print rss_all.index(min(rss_all))\n",
    "    \n",
    "print rss_all"
   ]
  },
  {
   "cell_type": "code",
   "execution_count": 197,
   "metadata": {
    "collapsed": false
   },
   "outputs": [
    {
     "data": {
      "text/plain": [
       "[105453830251561,\n",
       " 83445073036317,\n",
       " 72692113667429,\n",
       " 71946729679356,\n",
       " 69846516027353,\n",
       " 68899557352960,\n",
       " 68341986155264,\n",
       " 67361700020962,\n",
       " 68372752298062,\n",
       " 69335060576786,\n",
       " 69523884081979,\n",
       " 69049991793212,\n",
       " 70011272351177,\n",
       " 70908725305267,\n",
       " 71106956486642,\n",
       " 133118842702196,\n",
       " 133118842702196]"
      ]
     },
     "execution_count": 197,
     "metadata": {},
     "output_type": "execute_result"
    }
   ],
   "source": [
    "fp2 = predict_output(8, features_train, output_train, features_test)\n",
    "rss = (output_test - fp2)**2\n",
    "rss_all.append(np.sum(rss,axis=0))\n",
    "rss_all"
   ]
  },
  {
   "cell_type": "code",
   "execution_count": 175,
   "metadata": {
    "collapsed": false
   },
   "outputs": [
    {
     "name": "stdout",
     "output_type": "stream",
     "text": [
      "[3758 3144 4208 5038 1495 4614 1389  523 4893 1659]\n",
      "881300\n",
      "[4670 1385 4834 2226  887   57  276  635 2719  736]\n",
      "431860\n",
      "[ 382 1149 4087 3142 2751 4556 3372 4584 1666 2283]\n",
      "460595\n",
      "[1152 4263 2740 4720 2103 1636 2723 4864 4141 1044]\n",
      "430200\n",
      "[ 343 1521 2749 4721 4461 2894 3238 2782 3043  106]\n",
      "766750\n",
      "[3538 2682 2179 3165 2543 4403 3585  356 3174 5231]\n",
      "667420\n",
      "[3290 3483 3374 4470 1729 3229 5110 5486  856 1685]\n",
      "350032\n",
      "[2642 2813 3803   18 1728 1822 2891 4417 4056 2865]\n",
      "512800\n",
      "[ 159 4078 3312  261 4863 1466 1866  978  560 3191]\n",
      "484000\n",
      "[1291 4749 1441 4571 2402 2639 5157 5514 4737 3361]\n",
      "457235\n",
      "350032\n"
     ]
    },
    {
     "data": {
      "text/plain": [
       "6"
      ]
     },
     "execution_count": 175,
     "metadata": {},
     "output_type": "execute_result"
    }
   ],
   "source": [
    "fp = predict_output(10, features_train, output_train, features_test[0:10])\n",
    "print min(fp)\n",
    "fp.index(min(fp))"
   ]
  },
  {
   "cell_type": "code",
   "execution_count": 173,
   "metadata": {
    "collapsed": false
   },
   "outputs": [
    {
     "name": "stdout",
     "output_type": "stream",
     "text": [
      "[401]\n",
      "215000\n",
      "[901]\n",
      "252000\n",
      "[4979]\n"
     ]
    },
    {
     "ename": "IndexError",
     "evalue": "index 4979 is out of bounds for axis 0 with size 1435",
     "output_type": "error",
     "traceback": [
      "\u001b[1;31m---------------------------------------------------------------------------\u001b[0m",
      "\u001b[1;31mIndexError\u001b[0m                                Traceback (most recent call last)",
      "\u001b[1;32m<ipython-input-173-1d06eff0b3c3>\u001b[0m in \u001b[0;36m<module>\u001b[1;34m()\u001b[0m\n\u001b[1;32m----> 1\u001b[1;33m \u001b[0mfpp\u001b[0m \u001b[1;33m=\u001b[0m \u001b[0mpredict_output\u001b[0m\u001b[1;33m(\u001b[0m\u001b[1;36m1\u001b[0m\u001b[1;33m,\u001b[0m \u001b[0mfeatures_train\u001b[0m\u001b[1;33m,\u001b[0m \u001b[0moutput_valid\u001b[0m\u001b[1;33m,\u001b[0m \u001b[0mfeatures_valid\u001b[0m\u001b[1;33m[\u001b[0m\u001b[1;36m0\u001b[0m\u001b[1;33m:\u001b[0m\u001b[0mlen\u001b[0m\u001b[1;33m(\u001b[0m\u001b[0mfeatures_valid\u001b[0m\u001b[1;33m)\u001b[0m\u001b[1;33m]\u001b[0m\u001b[1;33m)\u001b[0m\u001b[1;33m\u001b[0m\u001b[0m\n\u001b[0m\u001b[0;32m      2\u001b[0m \u001b[0mfpp\u001b[0m\u001b[1;33m\u001b[0m\u001b[0m\n\u001b[0;32m      3\u001b[0m \u001b[1;33m\u001b[0m\u001b[0m\n",
      "\u001b[1;32m<ipython-input-168-2f6762938c34>\u001b[0m in \u001b[0;36mpredict_output\u001b[1;34m(k, feature_train, output_train, features_query)\u001b[0m\n\u001b[0;32m     10\u001b[0m         \u001b[0mavg_price\u001b[0m \u001b[1;33m=\u001b[0m \u001b[1;36m0\u001b[0m\u001b[1;33m\u001b[0m\u001b[0m\n\u001b[0;32m     11\u001b[0m         \u001b[1;32mfor\u001b[0m \u001b[0mi\u001b[0m \u001b[1;32min\u001b[0m \u001b[0mneighbors\u001b[0m\u001b[1;33m:\u001b[0m\u001b[1;33m\u001b[0m\u001b[0m\n\u001b[1;32m---> 12\u001b[1;33m             \u001b[0mavg_price\u001b[0m \u001b[1;33m+=\u001b[0m \u001b[0moutput_train\u001b[0m\u001b[1;33m[\u001b[0m\u001b[0mi\u001b[0m\u001b[1;33m]\u001b[0m\u001b[1;33m\u001b[0m\u001b[0m\n\u001b[0m\u001b[0;32m     13\u001b[0m         \u001b[0mprediction\u001b[0m \u001b[1;33m=\u001b[0m \u001b[0mavg_price\u001b[0m\u001b[1;33m/\u001b[0m\u001b[0mlen\u001b[0m\u001b[1;33m(\u001b[0m\u001b[0mneighbors\u001b[0m\u001b[1;33m)\u001b[0m\u001b[1;33m\u001b[0m\u001b[0m\n\u001b[0;32m     14\u001b[0m         \u001b[1;32mprint\u001b[0m \u001b[0mprediction\u001b[0m\u001b[1;33m\u001b[0m\u001b[0m\n",
      "\u001b[1;31mIndexError\u001b[0m: index 4979 is out of bounds for axis 0 with size 1435"
     ]
    }
   ],
   "source": [
    "\n",
    "for j in features_test[0:1]:\n",
    "    print j\n",
    "print features_test[0]\n",
    "    "
   ]
  },
  {
   "cell_type": "code",
   "execution_count": 131,
   "metadata": {
    "collapsed": false
   },
   "outputs": [
    {
     "name": "stdout",
     "output_type": "stream",
     "text": [
      "1\n",
      "2\n",
      "printing rss\n",
      "2\n",
      "2\n",
      "3\n",
      "printing rss\n",
      "3\n",
      "3\n",
      "4\n",
      "printing rss\n",
      "4\n",
      "4\n",
      "5\n",
      "printing rss\n",
      "5\n",
      "5\n",
      "6\n",
      "printing rss\n",
      "6\n"
     ]
    }
   ],
   "source": [
    "q= [1,2,3,4,5]\n",
    "w =[2,3,4,5,6]\n",
    "for i in q:\n",
    "    print i\n",
    "    print w[q.index(i)]\n",
    "    print \"printing rss\"\n",
    "    rss += ((i - w[q.index(i)])**2)\n",
    "    print (rss)"
   ]
  },
  {
   "cell_type": "code",
   "execution_count": null,
   "metadata": {
    "collapsed": true
   },
   "outputs": [],
   "source": []
  }
 ],
 "metadata": {
  "kernelspec": {
   "display_name": "Python 2",
   "language": "python",
   "name": "python2"
  },
  "language_info": {
   "codemirror_mode": {
    "name": "ipython",
    "version": 2
   },
   "file_extension": ".py",
   "mimetype": "text/x-python",
   "name": "python",
   "nbconvert_exporter": "python",
   "pygments_lexer": "ipython2",
   "version": "2.7.11"
  }
 },
 "nbformat": 4,
 "nbformat_minor": 0
}
